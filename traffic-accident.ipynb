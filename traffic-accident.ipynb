{
 "cells": [
  {
   "cell_type": "code",
   "execution_count": 71,
   "metadata": {},
   "outputs": [],
   "source": [
    "import numpy as np \n",
    "import pandas as pd \n",
    "\n",
    "import seaborn as sns \n",
    "import matplotlib.pyplot as plt\n",
    "\n",
    "import warnings\n",
    "warnings.simplefilter(action='ignore', category=FutureWarning)"
   ]
  },
  {
   "cell_type": "code",
   "execution_count": 72,
   "metadata": {},
   "outputs": [],
   "source": [
    "DTP_FILE_PATH = './DataDTPкор.xlsx'\n",
    "POGODA_FILE_PATH = './Pogoda.xlsx'\n",
    "\n",
    "df_dtp = pd.read_excel(DTP_FILE_PATH)  \n",
    "df_pogoda = pd.read_excel(POGODA_FILE_PATH)  "
   ]
  },
  {
   "cell_type": "code",
   "execution_count": 73,
   "metadata": {},
   "outputs": [
    {
     "data": {
      "text/plain": [
       "(35019, 15)"
      ]
     },
     "execution_count": 73,
     "metadata": {},
     "output_type": "execute_result"
    }
   ],
   "source": [
    "df_dtp.shape"
   ]
  },
  {
   "cell_type": "code",
   "execution_count": 74,
   "metadata": {},
   "outputs": [
    {
     "data": {
      "text/plain": [
       "(279935, 12)"
      ]
     },
     "execution_count": 74,
     "metadata": {},
     "output_type": "execute_result"
    }
   ],
   "source": [
    "df_pogoda.shape"
   ]
  },
  {
   "cell_type": "code",
   "execution_count": 75,
   "metadata": {},
   "outputs": [
    {
     "data": {
      "text/plain": [
       "(286662, 26)"
      ]
     },
     "execution_count": 75,
     "metadata": {},
     "output_type": "execute_result"
    }
   ],
   "source": [
    "df = pd.merge(left=df_pogoda, right=df_dtp, on='join_key', how='left')\n",
    "\n",
    "df.shape"
   ]
  },
  {
   "cell_type": "code",
   "execution_count": 76,
   "metadata": {},
   "outputs": [
    {
     "data": {
      "text/html": [
       "<div>\n",
       "<style scoped>\n",
       "    .dataframe tbody tr th:only-of-type {\n",
       "        vertical-align: middle;\n",
       "    }\n",
       "\n",
       "    .dataframe tbody tr th {\n",
       "        vertical-align: top;\n",
       "    }\n",
       "\n",
       "    .dataframe thead th {\n",
       "        text-align: right;\n",
       "    }\n",
       "</style>\n",
       "<table border=\"1\" class=\"dataframe\">\n",
       "  <thead>\n",
       "    <tr style=\"text-align: right;\">\n",
       "      <th></th>\n",
       "      <th>join_key</th>\n",
       "      <th>datetime_x</th>\n",
       "      <th>year</th>\n",
       "      <th>month</th>\n",
       "      <th>region_x</th>\n",
       "      <th>temperature</th>\n",
       "      <th>atmospheric pressure</th>\n",
       "      <th>humidity</th>\n",
       "      <th>Direction of the wind</th>\n",
       "      <th>Wind speed</th>\n",
       "      <th>...</th>\n",
       "      <th>pogoda_region</th>\n",
       "      <th>region_y</th>\n",
       "      <th>address</th>\n",
       "      <th>category</th>\n",
       "      <th>datetime_y</th>\n",
       "      <th>severity</th>\n",
       "      <th>dead_count</th>\n",
       "      <th>injured_count</th>\n",
       "      <th>parent_region</th>\n",
       "      <th>participants_count</th>\n",
       "    </tr>\n",
       "  </thead>\n",
       "  <tbody>\n",
       "    <tr>\n",
       "      <th>0</th>\n",
       "      <td>Восток44664,125</td>\n",
       "      <td>2022-04-13 03:00:00</td>\n",
       "      <td>2022</td>\n",
       "      <td>4</td>\n",
       "      <td>Восток</td>\n",
       "      <td>3.0</td>\n",
       "      <td>760.9</td>\n",
       "      <td>97.0</td>\n",
       "      <td>ССЗ</td>\n",
       "      <td>2.0</td>\n",
       "      <td>...</td>\n",
       "      <td>NaN</td>\n",
       "      <td>NaN</td>\n",
       "      <td>NaN</td>\n",
       "      <td>NaN</td>\n",
       "      <td>NaT</td>\n",
       "      <td>NaN</td>\n",
       "      <td>NaN</td>\n",
       "      <td>NaN</td>\n",
       "      <td>NaN</td>\n",
       "      <td>NaN</td>\n",
       "    </tr>\n",
       "    <tr>\n",
       "      <th>1</th>\n",
       "      <td>Восток42736</td>\n",
       "      <td>2017-01-01 00:00:00</td>\n",
       "      <td>2017</td>\n",
       "      <td>1</td>\n",
       "      <td>Восток</td>\n",
       "      <td>0.9</td>\n",
       "      <td>755.2</td>\n",
       "      <td>96.0</td>\n",
       "      <td>ЗЮЗ</td>\n",
       "      <td>1.0</td>\n",
       "      <td>...</td>\n",
       "      <td>Восток</td>\n",
       "      <td>Перово</td>\n",
       "      <td>г Москва, ш Энтузиастов, 40</td>\n",
       "      <td>Столкновение</td>\n",
       "      <td>2016-12-31 22:50:00</td>\n",
       "      <td>Легкий</td>\n",
       "      <td>0.0</td>\n",
       "      <td>2.0</td>\n",
       "      <td>Москва</td>\n",
       "      <td>3.0</td>\n",
       "    </tr>\n",
       "    <tr>\n",
       "      <th>2</th>\n",
       "      <td>Восток42736,125</td>\n",
       "      <td>2017-01-01 03:00:00</td>\n",
       "      <td>2017</td>\n",
       "      <td>1</td>\n",
       "      <td>Восток</td>\n",
       "      <td>1.3</td>\n",
       "      <td>754.3</td>\n",
       "      <td>96.0</td>\n",
       "      <td>З</td>\n",
       "      <td>2.0</td>\n",
       "      <td>...</td>\n",
       "      <td>NaN</td>\n",
       "      <td>NaN</td>\n",
       "      <td>NaN</td>\n",
       "      <td>NaN</td>\n",
       "      <td>NaT</td>\n",
       "      <td>NaN</td>\n",
       "      <td>NaN</td>\n",
       "      <td>NaN</td>\n",
       "      <td>NaN</td>\n",
       "      <td>NaN</td>\n",
       "    </tr>\n",
       "    <tr>\n",
       "      <th>3</th>\n",
       "      <td>Восток42736,25</td>\n",
       "      <td>2017-01-01 06:00:00</td>\n",
       "      <td>2017</td>\n",
       "      <td>1</td>\n",
       "      <td>Восток</td>\n",
       "      <td>1.3</td>\n",
       "      <td>753.0</td>\n",
       "      <td>97.0</td>\n",
       "      <td>З</td>\n",
       "      <td>2.0</td>\n",
       "      <td>...</td>\n",
       "      <td>NaN</td>\n",
       "      <td>NaN</td>\n",
       "      <td>NaN</td>\n",
       "      <td>NaN</td>\n",
       "      <td>NaT</td>\n",
       "      <td>NaN</td>\n",
       "      <td>NaN</td>\n",
       "      <td>NaN</td>\n",
       "      <td>NaN</td>\n",
       "      <td>NaN</td>\n",
       "    </tr>\n",
       "    <tr>\n",
       "      <th>4</th>\n",
       "      <td>Восток42736,375</td>\n",
       "      <td>2017-01-01 09:00:00</td>\n",
       "      <td>2017</td>\n",
       "      <td>1</td>\n",
       "      <td>Восток</td>\n",
       "      <td>1.6</td>\n",
       "      <td>752.7</td>\n",
       "      <td>96.0</td>\n",
       "      <td>З</td>\n",
       "      <td>1.0</td>\n",
       "      <td>...</td>\n",
       "      <td>NaN</td>\n",
       "      <td>NaN</td>\n",
       "      <td>NaN</td>\n",
       "      <td>NaN</td>\n",
       "      <td>NaT</td>\n",
       "      <td>NaN</td>\n",
       "      <td>NaN</td>\n",
       "      <td>NaN</td>\n",
       "      <td>NaN</td>\n",
       "      <td>NaN</td>\n",
       "    </tr>\n",
       "  </tbody>\n",
       "</table>\n",
       "<p>5 rows × 26 columns</p>\n",
       "</div>"
      ],
      "text/plain": [
       "          join_key           datetime_x  year  month region_x  temperature  \\\n",
       "0  Восток44664,125  2022-04-13 03:00:00  2022      4   Восток          3.0   \n",
       "1      Восток42736  2017-01-01 00:00:00  2017      1   Восток          0.9   \n",
       "2  Восток42736,125  2017-01-01 03:00:00  2017      1   Восток          1.3   \n",
       "3   Восток42736,25  2017-01-01 06:00:00  2017      1   Восток          1.3   \n",
       "4  Восток42736,375  2017-01-01 09:00:00  2017      1   Восток          1.6   \n",
       "\n",
       "   atmospheric pressure  humidity Direction of the wind  Wind speed  ...  \\\n",
       "0                 760.9      97.0                   ССЗ         2.0  ...   \n",
       "1                 755.2      96.0                   ЗЮЗ         1.0  ...   \n",
       "2                 754.3      96.0                     З         2.0  ...   \n",
       "3                 753.0      97.0                     З         2.0  ...   \n",
       "4                 752.7      96.0                     З         1.0  ...   \n",
       "\n",
       "   pogoda_region region_y                      address      category  \\\n",
       "0            NaN      NaN                          NaN           NaN   \n",
       "1         Восток   Перово  г Москва, ш Энтузиастов, 40  Столкновение   \n",
       "2            NaN      NaN                          NaN           NaN   \n",
       "3            NaN      NaN                          NaN           NaN   \n",
       "4            NaN      NaN                          NaN           NaN   \n",
       "\n",
       "           datetime_y severity dead_count injured_count parent_region  \\\n",
       "0                 NaT      NaN        NaN           NaN           NaN   \n",
       "1 2016-12-31 22:50:00   Легкий        0.0           2.0        Москва   \n",
       "2                 NaT      NaN        NaN           NaN           NaN   \n",
       "3                 NaT      NaN        NaN           NaN           NaN   \n",
       "4                 NaT      NaN        NaN           NaN           NaN   \n",
       "\n",
       "  participants_count  \n",
       "0                NaN  \n",
       "1                3.0  \n",
       "2                NaN  \n",
       "3                NaN  \n",
       "4                NaN  \n",
       "\n",
       "[5 rows x 26 columns]"
      ]
     },
     "execution_count": 76,
     "metadata": {},
     "output_type": "execute_result"
    }
   ],
   "source": [
    "df.head(5)"
   ]
  },
  {
   "cell_type": "code",
   "execution_count": 77,
   "metadata": {},
   "outputs": [
    {
     "data": {
      "text/plain": [
       "251642"
      ]
     },
     "execution_count": 77,
     "metadata": {},
     "output_type": "execute_result"
    }
   ],
   "source": [
    "df['pogoda_region'].isnull().sum()"
   ]
  },
  {
   "cell_type": "code",
   "execution_count": 78,
   "metadata": {},
   "outputs": [
    {
     "ename": "ValueError",
     "evalue": "No axis named columns for object type Series",
     "output_type": "error",
     "traceback": [
      "\u001b[1;31m---------------------------------------------------------------------------\u001b[0m",
      "\u001b[1;31mKeyError\u001b[0m                                  Traceback (most recent call last)",
      "\u001b[1;32mc:\\Users\\jsink\\AppData\\Local\\Programs\\Python\\Python312\\Lib\\site-packages\\pandas\\core\\generic.py\u001b[0m in \u001b[0;36m?\u001b[1;34m(cls, axis)\u001b[0m\n\u001b[0;32m    552\u001b[0m             \u001b[1;32mreturn\u001b[0m \u001b[0mcls\u001b[0m\u001b[1;33m.\u001b[0m\u001b[0m_AXIS_TO_AXIS_NUMBER\u001b[0m\u001b[1;33m[\u001b[0m\u001b[0maxis\u001b[0m\u001b[1;33m]\u001b[0m\u001b[1;33m\u001b[0m\u001b[1;33m\u001b[0m\u001b[0m\n\u001b[0;32m    553\u001b[0m         \u001b[1;32mexcept\u001b[0m \u001b[0mKeyError\u001b[0m\u001b[1;33m:\u001b[0m\u001b[1;33m\u001b[0m\u001b[1;33m\u001b[0m\u001b[0m\n\u001b[1;32m--> 554\u001b[1;33m             \u001b[1;32mraise\u001b[0m \u001b[0mValueError\u001b[0m\u001b[1;33m(\u001b[0m\u001b[1;33mf\"\u001b[0m\u001b[1;33mNo axis named \u001b[0m\u001b[1;33m{\u001b[0m\u001b[0maxis\u001b[0m\u001b[1;33m}\u001b[0m\u001b[1;33m for object type \u001b[0m\u001b[1;33m{\u001b[0m\u001b[0mcls\u001b[0m\u001b[1;33m.\u001b[0m\u001b[0m__name__\u001b[0m\u001b[1;33m}\u001b[0m\u001b[1;33m\"\u001b[0m\u001b[1;33m)\u001b[0m\u001b[1;33m\u001b[0m\u001b[1;33m\u001b[0m\u001b[0m\n\u001b[0m",
      "\u001b[1;31mKeyError\u001b[0m: 'columns'",
      "\nDuring handling of the above exception, another exception occurred:\n",
      "\u001b[1;31mValueError\u001b[0m                                Traceback (most recent call last)",
      "\u001b[1;32m~\\AppData\\Local\\Temp\\ipykernel_23380\\304042956.py\u001b[0m in \u001b[0;36m?\u001b[1;34m()\u001b[0m\n\u001b[1;32m----> 1\u001b[1;33m \u001b[0mdf\u001b[0m\u001b[1;33m[\u001b[0m\u001b[1;34m'pogoda_region'\u001b[0m\u001b[1;33m]\u001b[0m \u001b[1;33m=\u001b[0m \u001b[0mdf\u001b[0m\u001b[1;33m[\u001b[0m\u001b[1;34m'pogoda_region'\u001b[0m\u001b[1;33m]\u001b[0m\u001b[1;33m.\u001b[0m\u001b[0mdropna\u001b[0m\u001b[1;33m(\u001b[0m\u001b[0maxis\u001b[0m\u001b[1;33m=\u001b[0m\u001b[1;34m'columns'\u001b[0m\u001b[1;33m)\u001b[0m\u001b[1;33m\u001b[0m\u001b[1;33m\u001b[0m\u001b[0m\n\u001b[0m\u001b[0;32m      2\u001b[0m \u001b[1;33m\u001b[0m\u001b[0m\n\u001b[0;32m      3\u001b[0m \u001b[0mdf\u001b[0m\u001b[1;33m[\u001b[0m\u001b[1;34m'pogoda_region'\u001b[0m\u001b[1;33m]\u001b[0m\u001b[1;33m.\u001b[0m\u001b[0mcount\u001b[0m\u001b[1;33m(\u001b[0m\u001b[1;33m)\u001b[0m\u001b[1;33m\u001b[0m\u001b[1;33m\u001b[0m\u001b[0m\n",
      "\u001b[1;32mc:\\Users\\jsink\\AppData\\Local\\Programs\\Python\\Python312\\Lib\\site-packages\\pandas\\core\\series.py\u001b[0m in \u001b[0;36m?\u001b[1;34m(self, axis, inplace, how, ignore_index)\u001b[0m\n\u001b[0;32m   5598\u001b[0m         \"\"\"\n\u001b[0;32m   5599\u001b[0m         \u001b[0minplace\u001b[0m \u001b[1;33m=\u001b[0m \u001b[0mvalidate_bool_kwarg\u001b[0m\u001b[1;33m(\u001b[0m\u001b[0minplace\u001b[0m\u001b[1;33m,\u001b[0m \u001b[1;34m\"inplace\"\u001b[0m\u001b[1;33m)\u001b[0m\u001b[1;33m\u001b[0m\u001b[1;33m\u001b[0m\u001b[0m\n\u001b[0;32m   5600\u001b[0m         \u001b[0mignore_index\u001b[0m \u001b[1;33m=\u001b[0m \u001b[0mvalidate_bool_kwarg\u001b[0m\u001b[1;33m(\u001b[0m\u001b[0mignore_index\u001b[0m\u001b[1;33m,\u001b[0m \u001b[1;34m\"ignore_index\"\u001b[0m\u001b[1;33m)\u001b[0m\u001b[1;33m\u001b[0m\u001b[1;33m\u001b[0m\u001b[0m\n\u001b[0;32m   5601\u001b[0m         \u001b[1;31m# Validate the axis parameter\u001b[0m\u001b[1;33m\u001b[0m\u001b[1;33m\u001b[0m\u001b[0m\n\u001b[1;32m-> 5602\u001b[1;33m         \u001b[0mself\u001b[0m\u001b[1;33m.\u001b[0m\u001b[0m_get_axis_number\u001b[0m\u001b[1;33m(\u001b[0m\u001b[0maxis\u001b[0m \u001b[1;32mor\u001b[0m \u001b[1;36m0\u001b[0m\u001b[1;33m)\u001b[0m\u001b[1;33m\u001b[0m\u001b[1;33m\u001b[0m\u001b[0m\n\u001b[0m\u001b[0;32m   5603\u001b[0m \u001b[1;33m\u001b[0m\u001b[0m\n\u001b[0;32m   5604\u001b[0m         \u001b[1;32mif\u001b[0m \u001b[0mself\u001b[0m\u001b[1;33m.\u001b[0m\u001b[0m_can_hold_na\u001b[0m\u001b[1;33m:\u001b[0m\u001b[1;33m\u001b[0m\u001b[1;33m\u001b[0m\u001b[0m\n\u001b[0;32m   5605\u001b[0m             \u001b[0mresult\u001b[0m \u001b[1;33m=\u001b[0m \u001b[0mremove_na_arraylike\u001b[0m\u001b[1;33m(\u001b[0m\u001b[0mself\u001b[0m\u001b[1;33m)\u001b[0m\u001b[1;33m\u001b[0m\u001b[1;33m\u001b[0m\u001b[0m\n",
      "\u001b[1;32mc:\\Users\\jsink\\AppData\\Local\\Programs\\Python\\Python312\\Lib\\site-packages\\pandas\\core\\generic.py\u001b[0m in \u001b[0;36m?\u001b[1;34m(cls, axis)\u001b[0m\n\u001b[0;32m    550\u001b[0m     \u001b[1;32mdef\u001b[0m \u001b[0m_get_axis_number\u001b[0m\u001b[1;33m(\u001b[0m\u001b[0mcls\u001b[0m\u001b[1;33m,\u001b[0m \u001b[0maxis\u001b[0m\u001b[1;33m:\u001b[0m \u001b[0mAxis\u001b[0m\u001b[1;33m)\u001b[0m \u001b[1;33m->\u001b[0m \u001b[0mAxisInt\u001b[0m\u001b[1;33m:\u001b[0m\u001b[1;33m\u001b[0m\u001b[1;33m\u001b[0m\u001b[0m\n\u001b[0;32m    551\u001b[0m         \u001b[1;32mtry\u001b[0m\u001b[1;33m:\u001b[0m\u001b[1;33m\u001b[0m\u001b[1;33m\u001b[0m\u001b[0m\n\u001b[0;32m    552\u001b[0m             \u001b[1;32mreturn\u001b[0m \u001b[0mcls\u001b[0m\u001b[1;33m.\u001b[0m\u001b[0m_AXIS_TO_AXIS_NUMBER\u001b[0m\u001b[1;33m[\u001b[0m\u001b[0maxis\u001b[0m\u001b[1;33m]\u001b[0m\u001b[1;33m\u001b[0m\u001b[1;33m\u001b[0m\u001b[0m\n\u001b[0;32m    553\u001b[0m         \u001b[1;32mexcept\u001b[0m \u001b[0mKeyError\u001b[0m\u001b[1;33m:\u001b[0m\u001b[1;33m\u001b[0m\u001b[1;33m\u001b[0m\u001b[0m\n\u001b[1;32m--> 554\u001b[1;33m             \u001b[1;32mraise\u001b[0m \u001b[0mValueError\u001b[0m\u001b[1;33m(\u001b[0m\u001b[1;33mf\"\u001b[0m\u001b[1;33mNo axis named \u001b[0m\u001b[1;33m{\u001b[0m\u001b[0maxis\u001b[0m\u001b[1;33m}\u001b[0m\u001b[1;33m for object type \u001b[0m\u001b[1;33m{\u001b[0m\u001b[0mcls\u001b[0m\u001b[1;33m.\u001b[0m\u001b[0m__name__\u001b[0m\u001b[1;33m}\u001b[0m\u001b[1;33m\"\u001b[0m\u001b[1;33m)\u001b[0m\u001b[1;33m\u001b[0m\u001b[1;33m\u001b[0m\u001b[0m\n\u001b[0m",
      "\u001b[1;31mValueError\u001b[0m: No axis named columns for object type Series"
     ]
    }
   ],
   "source": [
    "df['pogoda_region'] = df['pogoda_region'].dropna(axis='columns')\n",
    "\n",
    "df['pogoda_region'].count()"
   ]
  },
  {
   "cell_type": "code",
   "execution_count": null,
   "metadata": {},
   "outputs": [],
   "source": [
    "df.drop_duplicates(inplace=True)"
   ]
  },
  {
   "cell_type": "code",
   "execution_count": null,
   "metadata": {},
   "outputs": [
    {
     "data": {
      "text/plain": [
       "251597"
      ]
     },
     "execution_count": 69,
     "metadata": {},
     "output_type": "execute_result"
    }
   ],
   "source": [
    "df['pogoda_region'].isna().sum()"
   ]
  },
  {
   "cell_type": "code",
   "execution_count": null,
   "metadata": {},
   "outputs": [
    {
     "name": "stdout",
     "output_type": "stream",
     "text": [
      "<class 'pandas.core.frame.DataFrame'>\n",
      "Index: 286612 entries, 0 to 286661\n",
      "Data columns (total 26 columns):\n",
      " #   Column                 Non-Null Count   Dtype         \n",
      "---  ------                 --------------   -----         \n",
      " 0   join_key               286612 non-null  object        \n",
      " 1   datetime_x             286612 non-null  object        \n",
      " 2   year                   286612 non-null  int64         \n",
      " 3   month                  286612 non-null  int64         \n",
      " 4   region_x               286612 non-null  object        \n",
      " 5   temperature            286582 non-null  float64       \n",
      " 6   atmospheric pressure   286605 non-null  float64       \n",
      " 7   humidity               286576 non-null  float64       \n",
      " 8   Direction of the wind  286612 non-null  object        \n",
      " 9   Wind speed             286593 non-null  float64       \n",
      " 10  cloudiness             286612 non-null  float64       \n",
      " 11  weather conditions     134595 non-null  object        \n",
      " 12  datetime_round         35015 non-null   datetime64[ns]\n",
      " 13  id                     35015 non-null   float64       \n",
      " 14  light                  35015 non-null   object        \n",
      " 15  point                  35015 non-null   object        \n",
      " 16  pogoda_region          35015 non-null   object        \n",
      " 17  region_y               35015 non-null   object        \n",
      " 18  address                32534 non-null   object        \n",
      " 19  category               35015 non-null   object        \n",
      " 20  datetime_y             35015 non-null   datetime64[ns]\n",
      " 21  severity               35015 non-null   object        \n",
      " 22  dead_count             35015 non-null   float64       \n",
      " 23  injured_count          35015 non-null   float64       \n",
      " 24  parent_region          35015 non-null   object        \n",
      " 25  participants_count     35015 non-null   float64       \n",
      "dtypes: datetime64[ns](2), float64(9), int64(2), object(13)\n",
      "memory usage: 59.0+ MB\n"
     ]
    }
   ],
   "source": [
    "df.info()"
   ]
  },
  {
   "cell_type": "code",
   "execution_count": null,
   "metadata": {},
   "outputs": [],
   "source": [
    "df['datetime_x'] = pd.to_datetime(df['datetime_x'])"
   ]
  },
  {
   "cell_type": "code",
   "execution_count": null,
   "metadata": {},
   "outputs": [
    {
     "name": "stdout",
     "output_type": "stream",
     "text": [
      "join_key\n",
      "Юг43748,5                    7\n",
      "Юг43747,5                    7\n",
      "Юг43737,75                   7\n",
      "Юг43780,75                   6\n",
      "Восток43814,75               6\n",
      "                            ..\n",
      "Юг43437,2916666667           1\n",
      "Юг43437,3125                 1\n",
      "Юг43437,3333333333           1\n",
      "Юг43437,3541666667           1\n",
      "Юго-запад44561,9791666667    1\n",
      "Name: count, Length: 279886, dtype: int64 \n",
      "\n",
      "region_x\n",
      "Юго-запад        65330\n",
      "Юго-восток       64503\n",
      "Юг               62404\n",
      "Запад            16034\n",
      "Восток           15898\n",
      "Северо-восток    15755\n",
      "Север            15683\n",
      "Центр            15676\n",
      "Северо-запад     15329\n",
      "Name: count, dtype: int64 \n",
      "\n",
      "Direction of the wind\n",
      "З                         28224\n",
      "Штиль, безветрие          26745\n",
      "Ю                         23026\n",
      "ЗЮЗ                       21733\n",
      "ЮЗ                        19238\n",
      "ЮВ                        18834\n",
      "В                         17184\n",
      "ЗСЗ                       16492\n",
      "ЮЮВ                       16353\n",
      "ЮЮЗ                       15933\n",
      "СЗ                        15285\n",
      "ВЮВ                       14349\n",
      "ССЗ                       13131\n",
      "С                         12348\n",
      "ВСВ                        7797\n",
      "ССВ                        7507\n",
      "Переменное направление     6388\n",
      "СВ                         6045\n",
      "Name: count, dtype: int64 \n",
      "\n",
      "weather conditions\n",
      "                                                                                                                   56612\n",
      "Слабый(ая)(ые) снег                                                                                                13946\n",
      "Дымка.                                                                                                             12915\n",
      "Дымка                                                                                                               6037\n",
      "Состояние неба в общем не изменилось.                                                                               6037\n",
      "                                                                                                                   ...  \n",
      "Морось незамерзающая с перерывами умеренная в срок наблюдения.                                                         1\n",
      "Состояние неба в общем не изменилось.  Максимальный диаметр градин составляет 2 мм.                                    1\n",
      "Ливневый снег слабый в срок наблюдения или за последний час.  Диаметр отложения мокрого снега составляет 14 мм.        1\n",
      "Снег непрерывный слабый в срок наблюдения.  Диаметр отложения мокрого снега составляет 16 мм.                          1\n",
      "Видна молния, грома не слышно.                                                                                         1\n",
      "Name: count, Length: 227, dtype: int64 \n",
      "\n",
      "light\n",
      "Светлое время суток                            20750\n",
      "В темное время суток, освещение включено       13663\n",
      "Сумерки                                          484\n",
      "В темное время суток, освещение отсутствует       59\n",
      "В темное время суток, освещение не включено       59\n",
      "Name: count, dtype: int64 \n",
      "\n",
      "point\n",
      "{'lat': 55.0, 'long': 37.0}              62\n",
      "{'lat': 55.875, 'long': 37.738}          17\n",
      "{'lat': 55.908, 'long': 37.548}          17\n",
      "{'lat': 55.811, 'long': 37.839}          17\n",
      "{'lat': 55.819, 'long': 37.837}          15\n",
      "                                         ..\n",
      "{'lat': 55.805665, 'long': 37.582372}     1\n",
      "{'lat': 55.866839, 'long': 37.482681}     1\n",
      "{'lat': 55.849039, 'long': 37.567067}     1\n",
      "{'lat': 55.799018, 'long': 37.551433}     1\n",
      "{'lat': 55.667983, 'long': 37.560196}     1\n",
      "Name: count, Length: 34102, dtype: int64 \n",
      "\n",
      "pogoda_region\n",
      "Восток           4906\n",
      "Запад            4605\n",
      "Юг               4499\n",
      "Северо-восток    4484\n",
      "Север            4303\n",
      "Северо-запад     3415\n",
      "Центр            3379\n",
      "Юго-восток       2866\n",
      "Юго-запад        2558\n",
      "Name: count, dtype: int64 \n",
      "\n",
      "region_y\n",
      "Пресненский          650\n",
      "Гольяново            571\n",
      "Митино               558\n",
      "Строгино             550\n",
      "Можайский            540\n",
      "                    ... \n",
      "Некрасовка           112\n",
      "Внуково              112\n",
      "Ломоносовский        110\n",
      "Киевский              54\n",
      "Поселок Восточный     19\n",
      "Name: count, Length: 121, dtype: int64 \n",
      "\n",
      "address\n",
      "г Москва, Московская кольцевая автомобильная дорога (МКАД) внешняя сторона, 94 км       37\n",
      "г Москва, Московская кольцевая автомобильная дорога (МКАД) внешняя сторона, 41 км       36\n",
      "г Москва, Московская кольцевая автомобильная дорога (МКАД) внутренняя сторона, 41 км    30\n",
      "г Москва, Московская кольцевая автомобильная дорога (МКАД) внутренняя сторона, 62 км    28\n",
      "г Москва, Московская кольцевая автомобильная дорога (МКАД) внешняя сторона, 54 км       28\n",
      "                                                                                        ..\n",
      "г Москва, ул Костякова, 9                                                                1\n",
      "г Москва, ш Дмитровское, 29к1                                                            1\n",
      "г Москва, проезд Дмитровский, 20 к 2                                                     1\n",
      "г Москва, ул Дубнинская, 79Б                                                             1\n",
      "г Москва, пр-кт Новоясеневский, 1Б                                                       1\n",
      "Name: count, Length: 18800, dtype: int64 \n",
      "\n",
      "category\n",
      "Столкновение                                                                                                             15795\n",
      "Наезд на пешехода                                                                                                        12302\n",
      "Наезд на препятствие                                                                                                      1840\n",
      "Падение пассажира                                                                                                         1758\n",
      "Наезд на стоящее ТС                                                                                                       1648\n",
      "Наезд на велосипедиста                                                                                                    1194\n",
      "Опрокидывание                                                                                                              356\n",
      "Наезд на лицо, не являющееся участником дорожного движения, осуществляющее производство работ                               30\n",
      "Иной вид ДТП                                                                                                                19\n",
      "Отбрасывание предмета                                                                                                       18\n",
      "Наезд на лицо, не являющееся участником дорожного движения, осуществляющее несение службы                                   17\n",
      "Наезд на внезапно возникшее препятствие                                                                                     12\n",
      "Съезд с дороги                                                                                                               8\n",
      "Наезд на лицо, не являющееся участником дорожного движения, осуществляющее какую-либо другую деятельность                    7\n",
      "Падение груза                                                                                                                5\n",
      "Наезд на животное                                                                                                            3\n",
      "Возгорание вследствие технической неисправности движущегося или остановившегося ТС, участвующего в дорожном движении.        2\n",
      "Наезд на гужевой транспорт                                                                                                   1\n",
      "Name: count, dtype: int64 \n",
      "\n",
      "severity\n",
      "Легкий         26436\n",
      "Тяжёлый         7199\n",
      "С погибшими     1380\n",
      "Name: count, dtype: int64 \n",
      "\n",
      "parent_region\n",
      "Москва    35015\n",
      "Name: count, dtype: int64 \n",
      "\n"
     ]
    }
   ],
   "source": [
    "for f in df.columns:\n",
    "    if df[f].dtype == 'object':\n",
    "        print(df[f].value_counts(), '\\n')"
   ]
  }
 ],
 "metadata": {
  "kernelspec": {
   "display_name": "Python 3",
   "language": "python",
   "name": "python3"
  },
  "language_info": {
   "codemirror_mode": {
    "name": "ipython",
    "version": 3
   },
   "file_extension": ".py",
   "mimetype": "text/x-python",
   "name": "python",
   "nbconvert_exporter": "python",
   "pygments_lexer": "ipython3",
   "version": "3.12.0"
  }
 },
 "nbformat": 4,
 "nbformat_minor": 2
}
