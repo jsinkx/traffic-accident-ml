{
 "cells": [
  {
   "cell_type": "code",
   "execution_count": 71,
   "metadata": {},
   "outputs": [],
   "source": [
    "import numpy as np \n",
    "import pandas as pd \n",
    "\n",
    "import seaborn as sns \n",
    "import matplotlib.pyplot as plt\n",
    "\n",
    "import warnings"
   ]
  },
  {
   "cell_type": "code",
   "execution_count": 72,
   "metadata": {},
   "outputs": [],
   "source": [
    "warnings.simplefilter(action='ignore', category=FutureWarning)"
   ]
  },
  {
   "cell_type": "markdown",
   "metadata": {},
   "source": [
    "### Загрузка, подготовка данных по условию"
   ]
  },
  {
   "cell_type": "code",
   "execution_count": 73,
   "metadata": {},
   "outputs": [],
   "source": [
    "DTP_FILE_PATH = './DataDTPкор.xlsx'\n",
    "POGODA_FILE_PATH = './Pogoda.xlsx'\n",
    "\n",
    "df_dtp = pd.read_excel(DTP_FILE_PATH)  \n",
    "df_pogoda = pd.read_excel(POGODA_FILE_PATH)  "
   ]
  },
  {
   "cell_type": "code",
   "execution_count": 74,
   "metadata": {},
   "outputs": [
    {
     "data": {
      "text/plain": [
       "(35019, 15)"
      ]
     },
     "execution_count": 74,
     "metadata": {},
     "output_type": "execute_result"
    }
   ],
   "source": [
    "df_dtp.shape"
   ]
  },
  {
   "cell_type": "code",
   "execution_count": 75,
   "metadata": {},
   "outputs": [
    {
     "data": {
      "text/plain": [
       "(279935, 12)"
      ]
     },
     "execution_count": 75,
     "metadata": {},
     "output_type": "execute_result"
    }
   ],
   "source": [
    "df_pogoda.shape"
   ]
  },
  {
   "cell_type": "code",
   "execution_count": 76,
   "metadata": {},
   "outputs": [
    {
     "data": {
      "text/plain": [
       "(286662, 26)"
      ]
     },
     "execution_count": 76,
     "metadata": {},
     "output_type": "execute_result"
    }
   ],
   "source": [
    "df = pd.merge(left=df_pogoda, right=df_dtp, on='join_key', how='left')\n",
    "\n",
    "df.shape"
   ]
  },
  {
   "cell_type": "markdown",
   "metadata": {},
   "source": [
    "### Выбор по Северной части"
   ]
  },
  {
   "cell_type": "code",
   "execution_count": 77,
   "metadata": {},
   "outputs": [
    {
     "data": {
      "text/plain": [
       "0"
      ]
     },
     "execution_count": 77,
     "metadata": {},
     "output_type": "execute_result"
    }
   ],
   "source": [
    "df['region_x'].isnull().sum()"
   ]
  },
  {
   "cell_type": "code",
   "execution_count": 78,
   "metadata": {},
   "outputs": [
    {
     "data": {
      "text/plain": [
       "0"
      ]
     },
     "execution_count": 78,
     "metadata": {},
     "output_type": "execute_result"
    }
   ],
   "source": [
    "df['region_x'].isna().sum()"
   ]
  },
  {
   "cell_type": "code",
   "execution_count": 79,
   "metadata": {},
   "outputs": [
    {
     "data": {
      "text/plain": [
       "array(['Восток', 'Запад', 'Север', 'Северо-восток', 'Северо-запад',\n",
       "       'Центр', 'Юг', 'Юго-восток', 'Юго-запад'], dtype=object)"
      ]
     },
     "execution_count": 79,
     "metadata": {},
     "output_type": "execute_result"
    }
   ],
   "source": [
    "df['region_x'].unique()"
   ]
  },
  {
   "cell_type": "code",
   "execution_count": 80,
   "metadata": {},
   "outputs": [
    {
     "data": {
      "text/plain": [
       "(True, True, True)"
      ]
     },
     "execution_count": 80,
     "metadata": {},
     "output_type": "execute_result"
    }
   ],
   "source": [
    "def is_north(value):\n",
    "    return value.upper().split('СЕВЕР')[0] == ''\n",
    "\n",
    "is_north('Север'), is_north('Северо-восток'), is_north('Северо-запад')"
   ]
  },
  {
   "cell_type": "code",
   "execution_count": 81,
   "metadata": {},
   "outputs": [
    {
     "data": {
      "text/plain": [
       "array(['Север', 'Северо-восток', 'Северо-запад'], dtype=object)"
      ]
     },
     "execution_count": 81,
     "metadata": {},
     "output_type": "execute_result"
    }
   ],
   "source": [
    "df = df[df['region_x'].apply(lambda v: is_north(v))]\n",
    "\n",
    "df['region_x'].unique()"
   ]
  },
  {
   "cell_type": "markdown",
   "metadata": {},
   "source": [
    "### Этап EDA"
   ]
  },
  {
   "cell_type": "code",
   "execution_count": 82,
   "metadata": {},
   "outputs": [
    {
     "data": {
      "text/plain": [
       "(46786, 26)"
      ]
     },
     "execution_count": 82,
     "metadata": {},
     "output_type": "execute_result"
    }
   ],
   "source": [
    "df.shape"
   ]
  },
  {
   "cell_type": "code",
   "execution_count": 83,
   "metadata": {},
   "outputs": [
    {
     "name": "stdout",
     "output_type": "stream",
     "text": [
      "<class 'pandas.core.frame.DataFrame'>\n",
      "Index: 46786 entries, 31939 to 78724\n",
      "Data columns (total 26 columns):\n",
      " #   Column                 Non-Null Count  Dtype         \n",
      "---  ------                 --------------  -----         \n",
      " 0   join_key               46786 non-null  object        \n",
      " 1   datetime_x             46786 non-null  object        \n",
      " 2   year                   46786 non-null  int64         \n",
      " 3   month                  46786 non-null  int64         \n",
      " 4   region_x               46786 non-null  object        \n",
      " 5   temperature            46783 non-null  float64       \n",
      " 6   atmospheric pressure   46783 non-null  float64       \n",
      " 7   humidity               46783 non-null  float64       \n",
      " 8   Direction of the wind  46786 non-null  object        \n",
      " 9   Wind speed             46783 non-null  float64       \n",
      " 10  cloudiness             46786 non-null  float64       \n",
      " 11  weather conditions     46786 non-null  object        \n",
      " 12  datetime_round         12206 non-null  datetime64[ns]\n",
      " 13  id                     12206 non-null  float64       \n",
      " 14  light                  12206 non-null  object        \n",
      " 15  point                  12206 non-null  object        \n",
      " 16  pogoda_region          12206 non-null  object        \n",
      " 17  region_y               12206 non-null  object        \n",
      " 18  address                11388 non-null  object        \n",
      " 19  category               12206 non-null  object        \n",
      " 20  datetime_y             12206 non-null  datetime64[ns]\n",
      " 21  severity               12206 non-null  object        \n",
      " 22  dead_count             12206 non-null  float64       \n",
      " 23  injured_count          12206 non-null  float64       \n",
      " 24  parent_region          12206 non-null  object        \n",
      " 25  participants_count     12206 non-null  float64       \n",
      "dtypes: datetime64[ns](2), float64(9), int64(2), object(13)\n",
      "memory usage: 9.6+ MB\n"
     ]
    }
   ],
   "source": [
    "df.info()"
   ]
  },
  {
   "cell_type": "code",
   "execution_count": 84,
   "metadata": {},
   "outputs": [],
   "source": [
    "df.drop_duplicates(inplace=True)"
   ]
  },
  {
   "cell_type": "code",
   "execution_count": 85,
   "metadata": {},
   "outputs": [
    {
     "data": {
      "text/plain": [
       "join_key                  0.000000\n",
       "datetime_x                0.000000\n",
       "year                      0.000000\n",
       "month                     0.000000\n",
       "region_x                  0.000000\n",
       "temperature               0.006415\n",
       "atmospheric pressure      0.006415\n",
       "humidity                  0.006415\n",
       "Direction of the wind     0.000000\n",
       "Wind speed                0.006415\n",
       "cloudiness                0.000000\n",
       "weather conditions        0.000000\n",
       "datetime_round           73.908953\n",
       "id                       73.908953\n",
       "light                    73.908953\n",
       "point                    73.908953\n",
       "pogoda_region            73.908953\n",
       "region_y                 73.908953\n",
       "address                  75.658049\n",
       "category                 73.908953\n",
       "datetime_y               73.908953\n",
       "severity                 73.908953\n",
       "dead_count               73.908953\n",
       "injured_count            73.908953\n",
       "parent_region            73.908953\n",
       "participants_count       73.908953\n",
       "dtype: float64"
      ]
     },
     "execution_count": 85,
     "metadata": {},
     "output_type": "execute_result"
    }
   ],
   "source": [
    "df.isna().mean()*100"
   ]
  },
  {
   "cell_type": "code",
   "execution_count": 90,
   "metadata": {},
   "outputs": [],
   "source": [
    "# TODO написать функцию для нормализации наименований фич\n",
    "\n",
    "# Заполним численные признаки медианой \n",
    "df['temperature'].fillna(df['temperature'].median(), inplace=True)\n",
    "df['atmospheric pressure'].fillna(df['atmospheric pressure'].median(), inplace=True)\n",
    "df['humidity'].fillna(df['humidity'].median(), inplace=True)\n",
    "df['Wind speed'].fillna(df['Wind speed'].median(), inplace=True)"
   ]
  },
  {
   "cell_type": "code",
   "execution_count": 89,
   "metadata": {},
   "outputs": [],
   "source": [
    "df['datetime_x'] = pd.to_datetime(df['datetime_x'])"
   ]
  },
  {
   "cell_type": "code",
   "execution_count": 87,
   "metadata": {},
   "outputs": [
    {
     "data": {
      "text/plain": [
       "join_key                  0.000000\n",
       "datetime_x                0.000000\n",
       "year                      0.000000\n",
       "month                     0.000000\n",
       "region_x                  0.000000\n",
       "temperature               0.000000\n",
       "atmospheric pressure      0.000000\n",
       "humidity                  0.000000\n",
       "Direction of the wind     0.000000\n",
       "Wind speed                0.000000\n",
       "cloudiness                0.000000\n",
       "weather conditions        0.000000\n",
       "datetime_round           73.908953\n",
       "id                       73.908953\n",
       "light                    73.908953\n",
       "point                    73.908953\n",
       "pogoda_region            73.908953\n",
       "region_y                 73.908953\n",
       "address                  75.658049\n",
       "category                 73.908953\n",
       "datetime_y               73.908953\n",
       "severity                 73.908953\n",
       "dead_count               73.908953\n",
       "injured_count            73.908953\n",
       "parent_region            73.908953\n",
       "participants_count       73.908953\n",
       "dtype: float64"
      ]
     },
     "execution_count": 87,
     "metadata": {},
     "output_type": "execute_result"
    }
   ],
   "source": [
    "df.isna().mean()*100"
   ]
  }
 ],
 "metadata": {
  "kernelspec": {
   "display_name": "Python 3",
   "language": "python",
   "name": "python3"
  },
  "language_info": {
   "codemirror_mode": {
    "name": "ipython",
    "version": 3
   },
   "file_extension": ".py",
   "mimetype": "text/x-python",
   "name": "python",
   "nbconvert_exporter": "python",
   "pygments_lexer": "ipython3",
   "version": "3.12.0"
  }
 },
 "nbformat": 4,
 "nbformat_minor": 2
}
